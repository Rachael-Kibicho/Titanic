{
  "metadata": {
    "kernelspec": {
      "language": "python",
      "display_name": "Python 3",
      "name": "python3"
    },
    "language_info": {
      "name": "python",
      "version": "3.11.11",
      "mimetype": "text/x-python",
      "codemirror_mode": {
        "name": "ipython",
        "version": 3
      },
      "pygments_lexer": "ipython3",
      "nbconvert_exporter": "python",
      "file_extension": ".py"
    },
    "kaggle": {
      "accelerator": "none",
      "dataSources": [
        {
          "sourceId": 12249831,
          "sourceType": "datasetVersion",
          "datasetId": 7718500
        }
      ],
      "dockerImageVersionId": 31040,
      "isInternetEnabled": false,
      "language": "python",
      "sourceType": "notebook",
      "isGpuEnabled": false
    },
    "colab": {
      "name": "Assignment3",
      "provenance": []
    }
  },
  "nbformat_minor": 0,
  "nbformat": 4,
  "cells": [
    {
      "cell_type": "markdown",
      "source": [
        "## MY EXPLORATION OF THE TITANIC DATASET.\n",
        "https://www.yourweather.co.uk/news/trending/titanic-10-curiosities-about-most-famous-shipwreck-in-history-oceans.html\n",
        "\n",
        "![titanic.jpeg](data:image/jpeg;base64,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)\n",
        "\n"
      ],
      "metadata": {
        "id": "AV6EkwDL8Wyb"
      }
    },
    {
      "source": [
        "import kagglehub\n",
        "kagglehub.login()\n"
      ],
      "metadata": {
        "id": "nmgz-JBw4uxH"
      },
      "cell_type": "code",
      "outputs": [],
      "execution_count": null
    },
    {
      "source": [
        "rachaelkibicho_titanic_22_06_path = kagglehub.dataset_download('rachaelkibicho/titanic-22-06')\n",
        "\n",
        "print('Data source import complete.')\n"
      ],
      "metadata": {
        "id": "rDhto7W_4uxN"
      },
      "cell_type": "code",
      "outputs": [],
      "execution_count": null
    },
    {
      "cell_type": "code",
      "source": [
        "import pandas as pd\n",
        "import numpy as np\n",
        "import matplotlib.pyplot as plt\n",
        "import seaborn as sns\n",
        "import missingno as msno\n",
        "\n",
        "sns.set_theme(style='darkgrid', context='notebook')\n",
        "\n",
        "import warnings\n",
        "warnings.filterwarnings('ignore')"
      ],
      "metadata": {
        "trusted": true,
        "execution": {
          "iopub.status.busy": "2025-07-02T07:32:20.120988Z",
          "iopub.execute_input": "2025-07-02T07:32:20.121291Z",
          "iopub.status.idle": "2025-07-02T07:32:21.437097Z",
          "shell.execute_reply.started": "2025-07-02T07:32:20.121268Z",
          "shell.execute_reply": "2025-07-02T07:32:21.436182Z"
        },
        "id": "bgi3AwOX4uxP"
      },
      "outputs": [],
      "execution_count": null
    },
    {
      "cell_type": "code",
      "source": [
        "train = pd.read_csv('/kaggle/input/titanic-22-06/train.csv')\n",
        "test = pd.read_csv('/kaggle/input/titanic-22-06/test.csv')\n",
        "gender_submission = pd.read_csv('/kaggle/input/titanic-22-06/gender_submission.csv')"
      ],
      "metadata": {
        "trusted": true,
        "execution": {
          "iopub.status.busy": "2025-07-02T07:32:21.438293Z",
          "iopub.execute_input": "2025-07-02T07:32:21.438958Z",
          "iopub.status.idle": "2025-07-02T07:32:21.480132Z",
          "shell.execute_reply.started": "2025-07-02T07:32:21.438929Z",
          "shell.execute_reply": "2025-07-02T07:32:21.479352Z"
        },
        "id": "mNPMKIvu4uxQ"
      },
      "outputs": [],
      "execution_count": null
    },
    {
      "cell_type": "markdown",
      "source": [
        "### Getting the lay of the land\n"
      ],
      "metadata": {
        "id": "Bk6asWg24uxR"
      }
    },
    {
      "cell_type": "code",
      "source": [
        "train.info()"
      ],
      "metadata": {
        "trusted": true,
        "execution": {
          "iopub.status.busy": "2025-07-02T07:32:21.480937Z",
          "iopub.execute_input": "2025-07-02T07:32:21.481195Z",
          "iopub.status.idle": "2025-07-02T07:32:21.508131Z",
          "shell.execute_reply.started": "2025-07-02T07:32:21.48117Z",
          "shell.execute_reply": "2025-07-02T07:32:21.507244Z"
        },
        "id": "zMEh-rTk4uxV"
      },
      "outputs": [],
      "execution_count": null
    },
    {
      "cell_type": "code",
      "source": [
        "train['Survived'] = train['Survived'].astype('category')\n",
        "train['Pclass'] = train['Pclass'].astype('category')\n",
        "train['Sex'] = train['Sex'].astype('category')\n",
        "train['Cabin'] = train['Cabin'].astype('category')\n",
        "train['Embarked'] = train['Embarked'].astype('category')"
      ],
      "metadata": {
        "trusted": true,
        "execution": {
          "iopub.status.busy": "2025-07-02T07:32:21.509775Z",
          "iopub.execute_input": "2025-07-02T07:32:21.510029Z",
          "iopub.status.idle": "2025-07-02T07:32:21.531094Z",
          "shell.execute_reply.started": "2025-07-02T07:32:21.510008Z",
          "shell.execute_reply": "2025-07-02T07:32:21.530304Z"
        },
        "id": "hgr4Tx5N4uxW"
      },
      "outputs": [],
      "execution_count": null
    },
    {
      "cell_type": "code",
      "source": [
        "train.info()"
      ],
      "metadata": {
        "trusted": true,
        "execution": {
          "iopub.status.busy": "2025-07-02T07:32:21.531959Z",
          "iopub.execute_input": "2025-07-02T07:32:21.532216Z",
          "iopub.status.idle": "2025-07-02T07:32:21.558105Z",
          "shell.execute_reply.started": "2025-07-02T07:32:21.532195Z",
          "shell.execute_reply": "2025-07-02T07:32:21.557353Z"
        },
        "id": "erG1uMdp4uxY"
      },
      "outputs": [],
      "execution_count": null
    },
    {
      "cell_type": "code",
      "source": [
        "train.describe().T"
      ],
      "metadata": {
        "trusted": true,
        "execution": {
          "iopub.status.busy": "2025-07-02T07:32:21.558937Z",
          "iopub.execute_input": "2025-07-02T07:32:21.559186Z",
          "iopub.status.idle": "2025-07-02T07:32:21.638812Z",
          "shell.execute_reply.started": "2025-07-02T07:32:21.559166Z",
          "shell.execute_reply": "2025-07-02T07:32:21.63781Z"
        },
        "id": "i-soQXDZ4uxZ"
      },
      "outputs": [],
      "execution_count": null
    },
    {
      "cell_type": "code",
      "source": [
        "train.head()"
      ],
      "metadata": {
        "trusted": true,
        "execution": {
          "iopub.status.busy": "2025-07-02T07:32:21.639702Z",
          "iopub.execute_input": "2025-07-02T07:32:21.639934Z",
          "iopub.status.idle": "2025-07-02T07:32:21.655342Z",
          "shell.execute_reply.started": "2025-07-02T07:32:21.639913Z",
          "shell.execute_reply": "2025-07-02T07:32:21.654364Z"
        },
        "id": "rR5I7rqy4uxZ"
      },
      "outputs": [],
      "execution_count": null
    },
    {
      "cell_type": "code",
      "source": [
        "train.columns"
      ],
      "metadata": {
        "trusted": true,
        "execution": {
          "iopub.status.busy": "2025-07-02T07:32:21.656273Z",
          "iopub.execute_input": "2025-07-02T07:32:21.656578Z",
          "iopub.status.idle": "2025-07-02T07:32:21.674251Z",
          "shell.execute_reply.started": "2025-07-02T07:32:21.656549Z",
          "shell.execute_reply": "2025-07-02T07:32:21.673306Z"
        },
        "id": "xsgyxh3m4uxa"
      },
      "outputs": [],
      "execution_count": null
    },
    {
      "cell_type": "code",
      "source": [
        "train.nunique()"
      ],
      "metadata": {
        "trusted": true,
        "execution": {
          "iopub.status.busy": "2025-07-02T07:32:21.675171Z",
          "iopub.execute_input": "2025-07-02T07:32:21.675535Z",
          "iopub.status.idle": "2025-07-02T07:32:21.700856Z",
          "shell.execute_reply.started": "2025-07-02T07:32:21.675507Z",
          "shell.execute_reply": "2025-07-02T07:32:21.699998Z"
        },
        "id": "8dDWp7KQ4uxb"
      },
      "outputs": [],
      "execution_count": null
    },
    {
      "cell_type": "markdown",
      "source": [
        "### Checking for inconsistencies"
      ],
      "metadata": {
        "id": "ZDy0YtPS4uxc"
      }
    },
    {
      "cell_type": "markdown",
      "source": [
        "#### Let's drop the unnecessary values"
      ],
      "metadata": {
        "id": "lpLlWL8F4uxc"
      }
    },
    {
      "cell_type": "code",
      "source": [
        "train = train.drop(columns = ['PassengerId'])\n",
        "train = train.drop(columns = ['Name'])"
      ],
      "metadata": {
        "trusted": true,
        "execution": {
          "iopub.status.busy": "2025-07-02T07:32:21.7043Z",
          "iopub.execute_input": "2025-07-02T07:32:21.704549Z",
          "iopub.status.idle": "2025-07-02T07:32:21.721425Z",
          "shell.execute_reply.started": "2025-07-02T07:32:21.70453Z",
          "shell.execute_reply": "2025-07-02T07:32:21.720487Z"
        },
        "id": "sOmuNSF34uxd"
      },
      "outputs": [],
      "execution_count": null
    },
    {
      "cell_type": "code",
      "source": [
        "def show_unique_values(train):\n",
        "    categorical_columns = train.select_dtypes(include='category').columns\n",
        "    print(f'Categorical Columns: {list(categorical_columns)}\\n')\n",
        "\n",
        "    for col in categorical_columns:\n",
        "        print(f'Unique valus in {col} are : {train[col].unique()}\\n')"
      ],
      "metadata": {
        "trusted": true,
        "execution": {
          "iopub.status.busy": "2025-07-02T07:32:21.722356Z",
          "iopub.execute_input": "2025-07-02T07:32:21.722628Z",
          "iopub.status.idle": "2025-07-02T07:32:21.740372Z",
          "shell.execute_reply.started": "2025-07-02T07:32:21.722582Z",
          "shell.execute_reply": "2025-07-02T07:32:21.739366Z"
        },
        "id": "Cw9rWuvO4uxd"
      },
      "outputs": [],
      "execution_count": null
    },
    {
      "cell_type": "markdown",
      "source": [
        "#### Let's now check the unique categorical values in the dataset"
      ],
      "metadata": {
        "id": "p0KoV4ky4uxe"
      }
    },
    {
      "cell_type": "code",
      "source": [
        "show_unique_values(train)"
      ],
      "metadata": {
        "trusted": true,
        "execution": {
          "iopub.status.busy": "2025-07-02T07:32:21.741412Z",
          "iopub.execute_input": "2025-07-02T07:32:21.741763Z",
          "iopub.status.idle": "2025-07-02T07:32:21.763169Z",
          "shell.execute_reply.started": "2025-07-02T07:32:21.741733Z",
          "shell.execute_reply": "2025-07-02T07:32:21.762323Z"
        },
        "id": "2CefJh994uxe"
      },
      "outputs": [],
      "execution_count": null
    },
    {
      "cell_type": "code",
      "source": [
        "duplicates = train[train.duplicated()]\n",
        "duplicates"
      ],
      "metadata": {
        "trusted": true,
        "execution": {
          "iopub.status.busy": "2025-07-02T07:32:21.764082Z",
          "iopub.execute_input": "2025-07-02T07:32:21.764583Z",
          "iopub.status.idle": "2025-07-02T07:32:21.787693Z",
          "shell.execute_reply.started": "2025-07-02T07:32:21.76456Z",
          "shell.execute_reply": "2025-07-02T07:32:21.786859Z"
        },
        "id": "JqWiqwiL4uxf"
      },
      "outputs": [],
      "execution_count": null
    },
    {
      "cell_type": "code",
      "source": [
        "#Let's keep the first of each duplicate\n",
        "train.drop_duplicates(keep='first')"
      ],
      "metadata": {
        "trusted": true,
        "execution": {
          "iopub.status.busy": "2025-07-02T07:32:21.788842Z",
          "iopub.execute_input": "2025-07-02T07:32:21.789405Z",
          "iopub.status.idle": "2025-07-02T07:32:21.806617Z",
          "shell.execute_reply.started": "2025-07-02T07:32:21.789376Z",
          "shell.execute_reply": "2025-07-02T07:32:21.805962Z"
        },
        "id": "fRrlBPI14uxf"
      },
      "outputs": [],
      "execution_count": null
    },
    {
      "cell_type": "markdown",
      "source": [
        "#### Let's check the handle these missing values."
      ],
      "metadata": {
        "id": "ZUoeo8FM4uxg"
      }
    },
    {
      "cell_type": "code",
      "source": [
        "#Let's visualize the missing data\n",
        "msno.bar(train)"
      ],
      "metadata": {
        "trusted": true,
        "execution": {
          "iopub.status.busy": "2025-07-02T07:32:21.807427Z",
          "iopub.execute_input": "2025-07-02T07:32:21.807758Z",
          "iopub.status.idle": "2025-07-02T07:32:22.911074Z",
          "shell.execute_reply.started": "2025-07-02T07:32:21.807738Z",
          "shell.execute_reply": "2025-07-02T07:32:22.910213Z"
        },
        "id": "aS01DJRW4uxg"
      },
      "outputs": [],
      "execution_count": null
    },
    {
      "cell_type": "code",
      "source": [
        "#Null percentages\n",
        "missing_values = train.isnull().sum().sort_values(ascending=False)\n",
        "\n",
        "missing_percentages = (missing_values/len(train)) * 100\n",
        "\n",
        "print(pd.DataFrame({\n",
        "    'Missing Values': missing_values,\n",
        "    'Percentage': missing_percentages\n",
        "}))"
      ],
      "metadata": {
        "trusted": true,
        "execution": {
          "iopub.status.busy": "2025-07-02T07:32:22.912228Z",
          "iopub.execute_input": "2025-07-02T07:32:22.912561Z",
          "iopub.status.idle": "2025-07-02T07:32:22.921819Z",
          "shell.execute_reply.started": "2025-07-02T07:32:22.912533Z",
          "shell.execute_reply": "2025-07-02T07:32:22.920872Z"
        },
        "id": "4Q2bbX_84uxg"
      },
      "outputs": [],
      "execution_count": null
    },
    {
      "cell_type": "code",
      "source": [
        "#Cabin column has got to go\n",
        "\n",
        "train = train.drop(columns = ['Cabin'])\n",
        "train.columns"
      ],
      "metadata": {
        "trusted": true,
        "execution": {
          "iopub.status.busy": "2025-07-02T07:32:22.922739Z",
          "iopub.execute_input": "2025-07-02T07:32:22.923039Z",
          "iopub.status.idle": "2025-07-02T07:32:22.942729Z",
          "shell.execute_reply.started": "2025-07-02T07:32:22.923017Z",
          "shell.execute_reply": "2025-07-02T07:32:22.941909Z"
        },
        "id": "54PI2J7L4uxh"
      },
      "outputs": [],
      "execution_count": null
    },
    {
      "cell_type": "code",
      "source": [
        "#Imputing mean on age null values\n",
        "train.Age.fillna(train['Age'].mean(), inplace=True)"
      ],
      "metadata": {
        "trusted": true,
        "execution": {
          "iopub.status.busy": "2025-07-02T07:32:22.94349Z",
          "iopub.execute_input": "2025-07-02T07:32:22.943753Z",
          "iopub.status.idle": "2025-07-02T07:32:22.960434Z",
          "shell.execute_reply.started": "2025-07-02T07:32:22.943731Z",
          "shell.execute_reply": "2025-07-02T07:32:22.959721Z"
        },
        "id": "fmv6M_pR4uxh"
      },
      "outputs": [],
      "execution_count": null
    },
    {
      "cell_type": "code",
      "source": [
        "#Imputing mode on Pclass since it is categorical\n",
        "train.Embarked.fillna(train['Embarked'].mode()[0], inplace=True)"
      ],
      "metadata": {
        "trusted": true,
        "execution": {
          "iopub.status.busy": "2025-07-02T07:32:22.961272Z",
          "iopub.execute_input": "2025-07-02T07:32:22.962065Z",
          "iopub.status.idle": "2025-07-02T07:32:22.98015Z",
          "shell.execute_reply.started": "2025-07-02T07:32:22.962036Z",
          "shell.execute_reply": "2025-07-02T07:32:22.979409Z"
        },
        "id": "EyEXDZV-4uxh"
      },
      "outputs": [],
      "execution_count": null
    },
    {
      "cell_type": "code",
      "source": [
        "msno.bar(train)"
      ],
      "metadata": {
        "trusted": true,
        "execution": {
          "iopub.status.busy": "2025-07-02T07:32:22.981095Z",
          "iopub.execute_input": "2025-07-02T07:32:22.981348Z",
          "iopub.status.idle": "2025-07-02T07:32:23.744996Z",
          "shell.execute_reply.started": "2025-07-02T07:32:22.981327Z",
          "shell.execute_reply": "2025-07-02T07:32:23.744042Z"
        },
        "id": "0CAAe8pL4uxi"
      },
      "outputs": [],
      "execution_count": null
    },
    {
      "cell_type": "markdown",
      "source": [
        "### Univariate analysis for numerical columns\n"
      ],
      "metadata": {
        "id": "BX7-w8-m4uxi"
      }
    },
    {
      "cell_type": "markdown",
      "source": [
        "#### What is the age distribution of passengers"
      ],
      "metadata": {
        "id": "tGnzQT2D4uxj"
      }
    },
    {
      "cell_type": "code",
      "source": [
        "plt.figure(figsize=(25,10))\n",
        "sns.histplot(data=train, x='Age', bins=100, kde=True)\n",
        "plt.title('A graph to show the age distribution of passengers')\n",
        "plt.xlabel('Age')\n",
        "plt.ylabel('Count')\n",
        "plt.show()"
      ],
      "metadata": {
        "trusted": true,
        "execution": {
          "iopub.status.busy": "2025-07-02T07:32:23.746062Z",
          "iopub.execute_input": "2025-07-02T07:32:23.746378Z",
          "iopub.status.idle": "2025-07-02T07:32:24.251453Z",
          "shell.execute_reply.started": "2025-07-02T07:32:23.746347Z",
          "shell.execute_reply": "2025-07-02T07:32:24.250598Z"
        },
        "id": "fC-trFsg4uxk"
      },
      "outputs": [],
      "execution_count": null
    },
    {
      "cell_type": "code",
      "source": [
        "print(f\"This is the age mean: {train['Age'].mean()}\")\n",
        "print(f\"This is the age median: {train['Age'].median()}\")\n",
        "print(f\"This is the age skew: {train['Age'].skew()}\")"
      ],
      "metadata": {
        "trusted": true,
        "execution": {
          "iopub.status.busy": "2025-07-02T07:32:24.252377Z",
          "iopub.execute_input": "2025-07-02T07:32:24.252606Z",
          "iopub.status.idle": "2025-07-02T07:32:24.25857Z",
          "shell.execute_reply.started": "2025-07-02T07:32:24.25257Z",
          "shell.execute_reply": "2025-07-02T07:32:24.2577Z"
        },
        "id": "FMuwon7c4uxk"
      },
      "outputs": [],
      "execution_count": null
    },
    {
      "cell_type": "markdown",
      "source": [
        "The median is greater than the mean, so the distribution is negatively skewed.\n"
      ],
      "metadata": {
        "id": "sjkJGT-R4uxk"
      }
    },
    {
      "cell_type": "markdown",
      "source": [
        "#### How many passengers embarked from each location"
      ],
      "metadata": {
        "id": "Za908Ccl4uxl"
      }
    },
    {
      "cell_type": "code",
      "source": [
        "plt.figure(figsize=(10,8))\n",
        "sns.countplot(data=train, x='Embarked')\n",
        "plt.show()"
      ],
      "metadata": {
        "trusted": true,
        "execution": {
          "iopub.status.busy": "2025-07-02T07:32:24.25957Z",
          "iopub.execute_input": "2025-07-02T07:32:24.260485Z",
          "iopub.status.idle": "2025-07-02T07:32:24.422575Z",
          "shell.execute_reply.started": "2025-07-02T07:32:24.260463Z",
          "shell.execute_reply": "2025-07-02T07:32:24.421764Z"
        },
        "id": "bnWiMe464uxl"
      },
      "outputs": [],
      "execution_count": null
    },
    {
      "cell_type": "code",
      "source": [
        "train.groupby('Embarked').count()"
      ],
      "metadata": {
        "trusted": true,
        "execution": {
          "iopub.status.busy": "2025-07-02T07:32:24.423562Z",
          "iopub.execute_input": "2025-07-02T07:32:24.424336Z",
          "iopub.status.idle": "2025-07-02T07:32:24.435786Z",
          "shell.execute_reply.started": "2025-07-02T07:32:24.42431Z",
          "shell.execute_reply": "2025-07-02T07:32:24.43503Z"
        },
        "id": "UXTrj8tD4uxm"
      },
      "outputs": [],
      "execution_count": null
    },
    {
      "cell_type": "markdown",
      "source": [
        "Looks like most people came from point S."
      ],
      "metadata": {
        "id": "JR80F4mO4uxm"
      }
    },
    {
      "cell_type": "markdown",
      "source": [
        "#### Are ticket prices evenly distributed or are they skewed?"
      ],
      "metadata": {
        "id": "m_OZfdyO4uxm"
      }
    },
    {
      "cell_type": "code",
      "source": [
        "plt.figure(figsize=(25,10))\n",
        "sns.kdeplot(data=train, x='Fare', shade=True)\n",
        "plt.title('A graph to show the ticket price distribution ')\n",
        "plt.xlabel('Ticket')\n",
        "plt.ylabel('Count')\n",
        "plt.show()"
      ],
      "metadata": {
        "trusted": true,
        "execution": {
          "iopub.status.busy": "2025-07-02T07:32:24.43673Z",
          "iopub.execute_input": "2025-07-02T07:32:24.437059Z",
          "iopub.status.idle": "2025-07-02T07:32:24.84356Z",
          "shell.execute_reply.started": "2025-07-02T07:32:24.437016Z",
          "shell.execute_reply": "2025-07-02T07:32:24.842681Z"
        },
        "id": "E3IXvk0l4uxn"
      },
      "outputs": [],
      "execution_count": null
    },
    {
      "cell_type": "code",
      "source": [
        "print(f\"This is the ticket price mean: {train['Fare'].mean()}\")\n",
        "print(f\"This is the ticket price median: {train['Fare'].median()}\")\n",
        "print(f\"This is the ticket price skew: {train['Fare'].skew()}\")"
      ],
      "metadata": {
        "trusted": true,
        "execution": {
          "iopub.status.busy": "2025-07-02T07:32:24.84448Z",
          "iopub.execute_input": "2025-07-02T07:32:24.844739Z",
          "iopub.status.idle": "2025-07-02T07:32:24.850471Z",
          "shell.execute_reply.started": "2025-07-02T07:32:24.844714Z",
          "shell.execute_reply": "2025-07-02T07:32:24.849645Z"
        },
        "id": "OIdVcCQd4uxn"
      },
      "outputs": [],
      "execution_count": null
    },
    {
      "cell_type": "markdown",
      "source": [
        "The median is less than the mean, so the distribution is positively skewed."
      ],
      "metadata": {
        "id": "LOEok3Bl4uxv"
      }
    },
    {
      "cell_type": "markdown",
      "source": [
        "### Bivariate analysis for numerical columns\n"
      ],
      "metadata": {
        "id": "s-6M5EkA4uxw"
      }
    },
    {
      "cell_type": "markdown",
      "source": [
        "#### Does the fare change depending on the Pclass?"
      ],
      "metadata": {
        "id": "4zI1a2st4uxw"
      }
    },
    {
      "cell_type": "code",
      "source": [
        "# Visualizing distributions of fare grouped by Pclass\n",
        "plt.figure(figsize=(10,8))\n",
        "sns.boxplot(x='Pclass', y='Fare', data=train)\n",
        "plt.title('Boxplot for Pclass versus Fare')\n",
        "plt.xlabel('Passenger class')\n",
        "plt.show()"
      ],
      "metadata": {
        "trusted": true,
        "execution": {
          "iopub.status.busy": "2025-07-02T07:32:24.851436Z",
          "iopub.execute_input": "2025-07-02T07:32:24.851807Z",
          "iopub.status.idle": "2025-07-02T07:32:25.055324Z",
          "shell.execute_reply.started": "2025-07-02T07:32:24.85178Z",
          "shell.execute_reply": "2025-07-02T07:32:25.05439Z"
        },
        "id": "Y1rRUaBQ4uxx"
      },
      "outputs": [],
      "execution_count": null
    },
    {
      "cell_type": "markdown",
      "source": [
        "Yes indeed fare increases with Pclass, although there are exceptions.."
      ],
      "metadata": {
        "id": "8ry3O2tf4uxx"
      }
    },
    {
      "cell_type": "markdown",
      "source": [
        "#### Are younger passengers more likely to survive in the Titanic?\n"
      ],
      "metadata": {
        "id": "mn8Z20Sz4uxy"
      }
    },
    {
      "cell_type": "code",
      "source": [
        "# Let's use a count plot perhaps.\n",
        "plt.figure(figsize=(10,8))\n",
        "sns.histplot(data=train, x='Age', hue='Survived', color='dark')\n",
        "plt.title('Count Plot for showing passengers age against survival')\n",
        "plt.xlabel('Age of Passenger')\n",
        "plt.show()"
      ],
      "metadata": {
        "trusted": true,
        "execution": {
          "iopub.status.busy": "2025-07-02T07:32:25.060433Z",
          "iopub.execute_input": "2025-07-02T07:32:25.060755Z",
          "iopub.status.idle": "2025-07-02T07:32:25.469072Z",
          "shell.execute_reply.started": "2025-07-02T07:32:25.060728Z",
          "shell.execute_reply": "2025-07-02T07:32:25.468215Z"
        },
        "id": "b5kgecsR4uxy"
      },
      "outputs": [],
      "execution_count": null
    },
    {
      "cell_type": "markdown",
      "source": [
        "Yes indeed. It is only between age 0 to age 15, that we see there are more survivors than those who perished."
      ],
      "metadata": {
        "id": "bWXNHwqf4uxy"
      }
    },
    {
      "cell_type": "markdown",
      "source": [
        "#### Does the Embarked location affect survival rate?"
      ],
      "metadata": {
        "id": "_6dK8EQL4uxz"
      }
    },
    {
      "cell_type": "code",
      "source": [
        "survival_by_embarked = train[train['Survived']==1].groupby('Embarked').count()['Survived']\n",
        "death_by_embarked = train[train['Survived']==0].groupby('Embarked').count()['Survived']\n",
        "\n",
        "print(survival_by_embarked)\n",
        "print(death_by_embarked)\n",
        "\n",
        "\n"
      ],
      "metadata": {
        "trusted": true,
        "execution": {
          "iopub.status.busy": "2025-07-02T07:32:25.469927Z",
          "iopub.execute_input": "2025-07-02T07:32:25.470154Z",
          "iopub.status.idle": "2025-07-02T07:32:25.482913Z",
          "shell.execute_reply.started": "2025-07-02T07:32:25.470136Z",
          "shell.execute_reply": "2025-07-02T07:32:25.482091Z"
        },
        "id": "uaW8KvOr4uxz"
      },
      "outputs": [],
      "execution_count": null
    },
    {
      "cell_type": "markdown",
      "source": [
        "Given that the order of the populations that embarked was S greatest, then C then Q, it is not surprising that the toll of deaths and survivals follow the same route."
      ],
      "metadata": {
        "id": "USm8JJyB4ux2"
      }
    },
    {
      "cell_type": "markdown",
      "source": [
        "### Multivariate analysis"
      ],
      "metadata": {
        "id": "1CkWYClX4ux3"
      }
    },
    {
      "cell_type": "markdown",
      "source": [
        "#### How do Pclass, Age, and Fare jointly affect survival"
      ],
      "metadata": {
        "id": "jckrS-ZW4ux3"
      }
    },
    {
      "cell_type": "markdown",
      "source": [
        "Using multivariate regression technique"
      ],
      "metadata": {
        "id": "AVhPxhJm4ux4"
      }
    },
    {
      "cell_type": "code",
      "source": [
        "import statsmodels.api as sm\n",
        "X = train[['Pclass', 'Age', 'Fare']].copy()\n",
        "\n",
        "#adding intercept\n",
        "X = sm.add_constant(X)\n",
        "\n",
        "y = train['Survived']\n",
        "model = sm.Logit(y, X).fit()\n",
        "print(model.summary())\n"
      ],
      "metadata": {
        "trusted": true,
        "execution": {
          "iopub.status.busy": "2025-07-02T07:32:25.48378Z",
          "iopub.execute_input": "2025-07-02T07:32:25.484019Z",
          "iopub.status.idle": "2025-07-02T07:32:27.495952Z",
          "shell.execute_reply.started": "2025-07-02T07:32:25.484Z",
          "shell.execute_reply": "2025-07-02T07:32:27.495143Z"
        },
        "id": "sHySEB5z4ux4"
      },
      "outputs": [],
      "execution_count": null
    },
    {
      "cell_type": "markdown",
      "source": [
        "The very low p values of Pclass and Age show that they affect greatly the rates of survival, unlike Fare."
      ],
      "metadata": {
        "id": "BXMoTFxa4ux5"
      }
    },
    {
      "cell_type": "code",
      "source": [
        "plt.figure(figsize=(8,5))\n",
        "sns.violinplot(x='Embarked', y = 'Survived', data=train)\n",
        "plt.title('Survival Rate by Embarked points')\n",
        "plt.xlabel('Survived(0=no, 1=yes')\n",
        "plt.show()"
      ],
      "metadata": {
        "trusted": true,
        "execution": {
          "iopub.status.busy": "2025-07-02T07:33:04.482894Z",
          "iopub.execute_input": "2025-07-02T07:33:04.483217Z",
          "iopub.status.idle": "2025-07-02T07:33:04.721794Z",
          "shell.execute_reply.started": "2025-07-02T07:33:04.483192Z",
          "shell.execute_reply": "2025-07-02T07:33:04.720943Z"
        },
        "id": "518BxsA84ux6"
      },
      "outputs": [],
      "execution_count": null
    },
    {
      "cell_type": "markdown",
      "source": [
        "#### Are survival rates different for Embarked locations when considering Pclass?"
      ],
      "metadata": {
        "id": "cL2dpCT94ux6"
      }
    },
    {
      "cell_type": "code",
      "source": [
        "sns.catplot(data=train, x='Embarked', hue='Survived', col='Pclass', kind='count', height=4, aspect=0.8)\n",
        "plt.subplots_adjust(top=0.8)\n",
        "plt.suptitle('Survival Counts by Embarkation Port and Passenger Class')\n",
        "plt.show()"
      ],
      "metadata": {
        "trusted": true,
        "execution": {
          "iopub.status.busy": "2025-07-02T07:46:09.034877Z",
          "iopub.execute_input": "2025-07-02T07:46:09.035272Z",
          "iopub.status.idle": "2025-07-02T07:46:09.968442Z",
          "shell.execute_reply.started": "2025-07-02T07:46:09.03524Z",
          "shell.execute_reply": "2025-07-02T07:46:09.967549Z"
        },
        "id": "39kiPThV4ux6"
      },
      "outputs": [],
      "execution_count": null
    },
    {
      "cell_type": "markdown",
      "source": [
        "It seems like those who embarked on 1st class especially from Cherbourg were more likly to survive than those who embarked from Southampton on 3rd class.  "
      ],
      "metadata": {
        "id": "jRbGZZtt4ux7"
      }
    },
    {
      "cell_type": "markdown",
      "source": [
        "### OUTLIERS\n"
      ],
      "metadata": {
        "id": "cjRXLd5h4ux7"
      }
    },
    {
      "cell_type": "markdown",
      "source": [
        "#### DETECTING OUTLIERS"
      ],
      "metadata": {
        "id": "pleYPeE64ux8"
      }
    },
    {
      "cell_type": "markdown",
      "source": [
        "#### Now let's handle them"
      ],
      "metadata": {
        "id": "D8w2bJSt4ux8"
      }
    },
    {
      "cell_type": "code",
      "source": [
        "#using zscores\n",
        "from scipy.stats import zscore\n",
        "\n",
        "def detect_outliers_zscore(data, threshold=3):\n",
        "    zscores = zscore(data.dropna())\n",
        "    outliers = data[(abs(zscores) > threshold) | (abs(zscores < -threshold))]\n",
        "    return outliers\n",
        "\n",
        "\n",
        "outliers_parch = detect_outliers_zscore(train['Parch'])\n",
        "outliers_age = detect_outliers_zscore(train['Age'])\n",
        "outliers_fare = detect_outliers_zscore(train['Fare'])\n",
        "\n",
        "print(f\"Number of extreme values in parch: {len(outliers_parch)}, in age {len(outliers_age)}, in fare {len(outliers_fare)}\")\n",
        ""
      ],
      "metadata": {
        "trusted": true,
        "execution": {
          "iopub.status.busy": "2025-07-02T07:57:47.484221Z",
          "iopub.execute_input": "2025-07-02T07:57:47.484517Z",
          "iopub.status.idle": "2025-07-02T07:57:47.495415Z",
          "shell.execute_reply.started": "2025-07-02T07:57:47.484495Z",
          "shell.execute_reply": "2025-07-02T07:57:47.494454Z"
        },
        "id": "cN4JLMd74ux8"
      },
      "outputs": [],
      "execution_count": null
    },
    {
      "cell_type": "markdown",
      "source": [
        "I'll keep the outliers to study wealth in passengers and their ages."
      ],
      "metadata": {
        "id": "p6hY71_s4ux9"
      }
    },
    {
      "cell_type": "markdown",
      "source": [
        "#### Target variable exploration"
      ],
      "metadata": {
        "id": "4IJQw-5J4ux9"
      }
    },
    {
      "cell_type": "markdown",
      "source": [
        "Distribution of target variable"
      ],
      "metadata": {
        "id": "T0XT0WrU4ux-"
      }
    },
    {
      "cell_type": "code",
      "source": [
        "plt.figure(figsize=(8,5))\n",
        "sns.countplot(x='Pclass', hue='Sex', data = train[train['Survived'] == 1], palette='Set1')\n",
        "plt.title('Survivors by Gender and Passenger Class')\n",
        "plt.xlabel('Passenger Class')\n",
        "plt.ylabel('Survivor count')\n",
        "plt.legend()\n",
        "plt.show()\n",
        ""
      ],
      "metadata": {
        "trusted": true,
        "execution": {
          "iopub.status.busy": "2025-07-02T08:01:23.533664Z",
          "iopub.execute_input": "2025-07-02T08:01:23.53437Z",
          "iopub.status.idle": "2025-07-02T08:01:23.753899Z",
          "shell.execute_reply.started": "2025-07-02T08:01:23.534343Z",
          "shell.execute_reply": "2025-07-02T08:01:23.753082Z"
        },
        "id": "9NoBr4nm4ux-"
      },
      "outputs": [],
      "execution_count": null
    },
    {
      "cell_type": "markdown",
      "source": [
        "Men who came on first class are likely to survive than men who came on third class. Generally, women are more likely to survive than men, with the exception of first class, which I think is a wealth issue."
      ],
      "metadata": {
        "id": "6aKZsXpc4ux-"
      }
    },
    {
      "cell_type": "code",
      "source": [
        "sns.catplot(data=train, x='Embarked', hue='Survived', col='Pclass', kind='count', height=4, aspect=0.8)\n",
        "plt.subplots_adjust(top=0.8)\n",
        "plt.suptitle('Survival Counts by Embarkation Port and Passenger Class')\n",
        "plt.show()"
      ],
      "metadata": {
        "trusted": true,
        "execution": {
          "iopub.status.busy": "2025-07-02T08:13:49.441706Z",
          "iopub.execute_input": "2025-07-02T08:13:49.442548Z",
          "iopub.status.idle": "2025-07-02T08:13:50.34003Z",
          "shell.execute_reply.started": "2025-07-02T08:13:49.44252Z",
          "shell.execute_reply": "2025-07-02T08:13:50.339164Z"
        },
        "id": "a01bbWUW4ux_"
      },
      "outputs": [],
      "execution_count": null
    },
    {
      "cell_type": "markdown",
      "source": [
        "It seems like those who embarked on 1st class especially from Cherbourg were more likly to survive than those who embarked from Southampton on 3rd class.  "
      ],
      "metadata": {
        "id": "BBYvwRzK4ux_"
      }
    },
    {
      "cell_type": "markdown",
      "source": [
        "Skewness of the Survival feature"
      ],
      "metadata": {
        "id": "KBziXx3W4uyA"
      }
    },
    {
      "cell_type": "code",
      "source": [
        "plt.figure(figsize=(25,10))\n",
        "sns.countplot(x='Survived',data=train, palette='Set1')\n",
        "plt.title('A graph to show the survival distribution ')\n",
        "plt.xlabel('Survival')\n",
        "plt.ylabel('Count')\n",
        "plt.show()"
      ],
      "metadata": {
        "trusted": true,
        "execution": {
          "iopub.status.busy": "2025-07-02T08:06:43.983746Z",
          "iopub.execute_input": "2025-07-02T08:06:43.984051Z",
          "iopub.status.idle": "2025-07-02T08:06:44.198527Z",
          "shell.execute_reply.started": "2025-07-02T08:06:43.984031Z",
          "shell.execute_reply": "2025-07-02T08:06:44.197787Z"
        },
        "id": "6fazq5WI4uyA"
      },
      "outputs": [],
      "execution_count": null
    },
    {
      "cell_type": "code",
      "source": [],
      "metadata": {
        "trusted": true,
        "id": "sCI6Im834uyB"
      },
      "outputs": [],
      "execution_count": null
    }
  ]
}
